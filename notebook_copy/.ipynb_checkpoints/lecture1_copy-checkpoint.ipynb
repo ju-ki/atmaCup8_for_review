{
 "cells": [
  {
   "cell_type": "code",
   "execution_count": 1,
   "metadata": {},
   "outputs": [],
   "source": [
    "import os\n",
    "import pandas as pd\n",
    "import matplotlib.pyplot as plt\n",
    "import seaborn as sns\n",
    "import numpy as np\n",
    "\n",
    "sns.set_style(\"ticks\")\n",
    "%matplotlib inline\n",
    "from matplotlib_venn import venn2"
   ]
  },
  {
   "cell_type": "code",
   "execution_count": 2,
   "metadata": {},
   "outputs": [],
   "source": [
    "INPUT = \"./input/\"\n",
    "OUTPUT = \"./output/\"\n",
    "os.makedirs(OUTPUT, exist_ok=True)\n",
    "\n",
    "train = pd.read_csv(os.path.join(INPUT, \"train.csv\"))\n",
    "test = pd.read_csv(os.path.join(INPUT, \"test.csv\"))\n",
    "whole_df = pd.concat([train, test], ignore_index=True)"
   ]
  },
  {
   "cell_type": "code",
   "execution_count": 3,
   "metadata": {},
   "outputs": [],
   "source": [
    "def preprocess(input_df: pd.DataFrame) -> pd.DataFrame:\n",
    "    output_df = input_df.copy()\n",
    "    output_df['User_Score'] = input_df['User_Score'].replace('tbd', None).astype(float)\n",
    "    return output_df\n",
    "\n",
    "def create_continuous_features(input_df):\n",
    "    input_df = preprocess(input_df)\n",
    "    use_columns = [\n",
    "        # 連続変数\n",
    "        'Critic_Score',\n",
    "        'Critic_Count', \n",
    "        'User_Score', \n",
    "        'User_Count',\n",
    "        'Year_of_Release'\n",
    "    ]\n",
    "    return input_df[use_columns].copy()"
   ]
  },
  {
   "cell_type": "code",
   "execution_count": 4,
   "metadata": {},
   "outputs": [],
   "source": [
    "assert len(create_continuous_features(train)) == len(train)"
   ]
  },
  {
   "cell_type": "code",
   "execution_count": 5,
   "metadata": {},
   "outputs": [],
   "source": [
    "def create_boolean_feature(input_df):\n",
    "    output_df = pd.DataFrame()\n",
    "    texts = [\n",
    "        \"japan\", \"nintendo\"\n",
    "    ]\n",
    "    for t in texts:\n",
    "        output_df[f\"Developer_has_{t}\"] = input_df[\"Developer\"].fillna(\"\").str.lower().str.contains(t).astype(int)\n",
    "    return output_df"
   ]
  },
  {
   "cell_type": "code",
   "execution_count": 6,
   "metadata": {},
   "outputs": [
    {
     "data": {
      "text/plain": [
       "Developer_has_japan       23\n",
       "Developer_has_nintendo    88\n",
       "dtype: int64"
      ]
     },
     "execution_count": 6,
     "metadata": {},
     "output_type": "execute_result"
    }
   ],
   "source": [
    "create_boolean_feature(train).sum()"
   ]
  },
  {
   "cell_type": "code",
   "execution_count": 7,
   "metadata": {},
   "outputs": [
    {
     "name": "stdout",
     "output_type": "stream",
     "text": [
      "enter\n",
      "hello context manager\n",
      "exit\n",
      "enter method\n",
      "hello context manager\n",
      "exit method\n"
     ]
    }
   ],
   "source": [
    "from contextlib import contextmanager\n",
    "class contextmanager_sample:\n",
    "    def __enter__(self, *args):\n",
    "        print(\"enter\")\n",
    "    def __exit__(self, *args):\n",
    "        print(\"exit\")\n",
    "with contextmanager_sample() as f:\n",
    "    print(\"hello context manager\")\n",
    "    \n",
    "@contextmanager\n",
    "def context_manager_sample():\n",
    "    print(\"enter method\")\n",
    "    yield\n",
    "    print(\"exit method\")\n",
    "    \n",
    "with context_manager_sample():\n",
    "    print(\"hello context manager\")"
   ]
  },
  {
   "cell_type": "code",
   "execution_count": 8,
   "metadata": {},
   "outputs": [],
   "source": [
    "from time import time\n",
    "\n",
    "@contextmanager\n",
    "def timer(logger=None, format_str=\"{:.3f}[s]\", prefix=None, suffix=None):\n",
    "    if prefix:\n",
    "        format_str = str(prefix) + format_str\n",
    "    if suffix:\n",
    "        format_str = format_str + str(suffix)\n",
    "    start = time()\n",
    "    yield\n",
    "    d = time() - start\n",
    "    out_str = format_str.format(d)\n",
    "    if logger:\n",
    "        logger.info(out_str)\n",
    "    else:\n",
    "        print(out_str)"
   ]
  },
  {
   "cell_type": "code",
   "execution_count": 9,
   "metadata": {},
   "outputs": [],
   "source": [
    "from tqdm import tqdm\n",
    "def to_feature(input_df):\n",
    "    processors = [\n",
    "        create_continuous_features,\n",
    "        create_boolean_feature\n",
    "    ]\n",
    "    \n",
    "    out_df = pd.DataFrame()\n",
    "    \n",
    "    for func in tqdm(processors, total=len(processors)):\n",
    "        with timer(prefix=\"create \" + func.__name__ + \" \"):\n",
    "            _df = func(input_df)\n",
    "            \n",
    "            assert len(_df) == len(input_df), func.__name__\n",
    "            out_df = pd.concat([out_df, _df], axis=1)\n",
    "    return out_df"
   ]
  },
  {
   "cell_type": "code",
   "execution_count": 10,
   "metadata": {},
   "outputs": [
    {
     "name": "stderr",
     "output_type": "stream",
     "text": [
      "100%|██████████| 2/2 [00:00<00:00, 40.14it/s]"
     ]
    },
    {
     "name": "stdout",
     "output_type": "stream",
     "text": [
      "create create_continuous_features 0.009[s]\n",
      "create create_boolean_feature 0.040[s]\n"
     ]
    },
    {
     "name": "stderr",
     "output_type": "stream",
     "text": [
      "\n",
      "100%|██████████| 2/2 [00:00<00:00, 32.54it/s]"
     ]
    },
    {
     "name": "stdout",
     "output_type": "stream",
     "text": [
      "create create_continuous_features 0.026[s]\n",
      "create create_boolean_feature 0.035[s]\n"
     ]
    },
    {
     "name": "stderr",
     "output_type": "stream",
     "text": [
      "\n"
     ]
    }
   ],
   "source": [
    "train_feat_df = to_feature(train)\n",
    "test_feat_df = to_feature(test)"
   ]
  },
  {
   "cell_type": "code",
   "execution_count": 21,
   "metadata": {},
   "outputs": [],
   "source": [
    "import lightgbm as lgbm\n",
    "from sklearn.metrics import mean_squared_log_error\n",
    "\n",
    "def fit_lgbm(X, y, cv, params: dict=None, verbose: int=10):\n",
    "    if params is None:\n",
    "        params = {}\n",
    "        \n",
    "    models = []\n",
    "    \n",
    "    oof_pred = np.zeros_like(y, dtype=np.float)\n",
    "    \n",
    "    for i, (idx_train, idx_valid) in enumerate(cv):\n",
    "        X_train, y_train = X[idx_train], y[idx_train]\n",
    "        X_valid, y_valid = X[idx_valid], y[idx_valid]\n",
    "        \n",
    "        clf = lgbm.LGBMRegressor(**params)\n",
    "        \n",
    "        with timer(prefix=\"fit fold={}\".format(i + 1)):\n",
    "            clf.fit(X_train, y_train, eval_set=[(X_valid, y_valid)],\n",
    "                   early_stopping_rounds=verbose,\n",
    "                   verbose=verbose)\n",
    "            \n",
    "        pred_i = clf.predict(X_valid)\n",
    "        pred_i = np.where(pred_i <0, 0, pred_i)\n",
    "        oof_pred[idx_valid] = pred_i\n",
    "        models.append(clf)\n",
    "        \n",
    "        print(f'Fold {i} RMSLE: {mean_squared_log_error(y_valid, pred_i) ** .5:.4f}')\n",
    "        \n",
    "    score = mean_squared_log_error(y, oof_pred) ** .5\n",
    "    print(\"FINISHD | Whole RMSLE: {:.4f}\".format(score))\n",
    "    return oof_pred, models"
   ]
  },
  {
   "cell_type": "code",
   "execution_count": 22,
   "metadata": {},
   "outputs": [],
   "source": [
    "params = {\n",
    "    \"objective\":\"rmse\",\n",
    "    \"learning_rate\":.1,\n",
    "    \"max_depth\":6,\n",
    "    \"n_estimators\":10000,\n",
    "    \"colsample_bytree\":.5,\n",
    "    \"importance_type\":\"gain\"\n",
    "}\n",
    "y = train[\"Global_Sales\"].values"
   ]
  },
  {
   "cell_type": "code",
   "execution_count": 23,
   "metadata": {},
   "outputs": [],
   "source": [
    "from sklearn.model_selection import KFold\n",
    "fold = KFold(n_splits=5, shuffle=True, random_state=0)\n",
    "cv = list(fold.split(train_feat_df, y))"
   ]
  },
  {
   "cell_type": "code",
   "execution_count": 24,
   "metadata": {},
   "outputs": [
    {
     "name": "stdout",
     "output_type": "stream",
     "text": [
      "[LightGBM] [Warning] Accuracy may be bad since you didn't explicitly set num_leaves OR 2^max_depth > num_leaves. (num_leaves=31).\n",
      "Training until validation scores don't improve for 10 rounds\n",
      "[10]\tvalid_0's rmse: 193.863\n",
      "[20]\tvalid_0's rmse: 188.564\n",
      "[30]\tvalid_0's rmse: 188.014\n",
      "[40]\tvalid_0's rmse: 187.007\n",
      "[50]\tvalid_0's rmse: 187.329\n",
      "Early stopping, best iteration is:\n",
      "[40]\tvalid_0's rmse: 187.007\n",
      "fit fold=10.116[s]\n",
      "Fold 0 RMSLE: 1.4652\n",
      "[LightGBM] [Warning] Accuracy may be bad since you didn't explicitly set num_leaves OR 2^max_depth > num_leaves. (num_leaves=31).\n",
      "Training until validation scores don't improve for 10 rounds\n",
      "[10]\tvalid_0's rmse: 142.644\n",
      "[20]\tvalid_0's rmse: 138.902\n",
      "[30]\tvalid_0's rmse: 138.685\n",
      "[40]\tvalid_0's rmse: 137.957\n",
      "[50]\tvalid_0's rmse: 138.096\n",
      "[60]\tvalid_0's rmse: 137.656\n",
      "[70]\tvalid_0's rmse: 137.647\n",
      "Early stopping, best iteration is:\n",
      "[67]\tvalid_0's rmse: 137.209\n",
      "fit fold=20.070[s]\n",
      "Fold 1 RMSLE: 1.4642\n",
      "[LightGBM] [Warning] Accuracy may be bad since you didn't explicitly set num_leaves OR 2^max_depth > num_leaves. (num_leaves=31).\n",
      "Training until validation scores don't improve for 10 rounds\n",
      "[10]\tvalid_0's rmse: 92.1881\n",
      "[20]\tvalid_0's rmse: 92.7397\n",
      "Early stopping, best iteration is:\n",
      "[15]\tvalid_0's rmse: 91.195\n",
      "fit fold=30.046[s]\n",
      "Fold 2 RMSLE: 1.5731\n",
      "[LightGBM] [Warning] Accuracy may be bad since you didn't explicitly set num_leaves OR 2^max_depth > num_leaves. (num_leaves=31).\n",
      "Training until validation scores don't improve for 10 rounds\n",
      "[10]\tvalid_0's rmse: 271.915\n",
      "[20]\tvalid_0's rmse: 266.6\n",
      "[30]\tvalid_0's rmse: 264.213\n",
      "[40]\tvalid_0's rmse: 261.345\n",
      "[50]\tvalid_0's rmse: 259.703\n",
      "[60]\tvalid_0's rmse: 258.55\n",
      "[70]\tvalid_0's rmse: 257.194\n",
      "[80]\tvalid_0's rmse: 257.295\n",
      "[90]\tvalid_0's rmse: 256.365\n",
      "[100]\tvalid_0's rmse: 256.398\n",
      "Early stopping, best iteration is:\n",
      "[92]\tvalid_0's rmse: 255.833\n",
      "fit fold=40.084[s]\n",
      "Fold 3 RMSLE: 1.4350\n",
      "[LightGBM] [Warning] Accuracy may be bad since you didn't explicitly set num_leaves OR 2^max_depth > num_leaves. (num_leaves=31).\n",
      "Training until validation scores don't improve for 10 rounds\n",
      "[10]\tvalid_0's rmse: 166.927\n",
      "[20]\tvalid_0's rmse: 165.286\n",
      "[30]\tvalid_0's rmse: 165.988\n",
      "Early stopping, best iteration is:\n",
      "[26]\tvalid_0's rmse: 164.653\n",
      "fit fold=50.037[s]\n",
      "Fold 4 RMSLE: 1.5174\n",
      "FINISHD | Whole RMSLE: 1.4918\n"
     ]
    }
   ],
   "source": [
    "oof, models = fit_lgbm(train_feat_df.values, y, cv, params=params)"
   ]
  },
  {
   "cell_type": "code",
   "execution_count": 28,
   "metadata": {},
   "outputs": [],
   "source": [
    "def visualize_importance(models, feat_train_df):\n",
    "    \"\"\"\n",
    "    args:\n",
    "        models:\n",
    "            list of lightGBM models\n",
    "        feat_train_df:\n",
    "            学習時使用した DataFrame\n",
    "    \"\"\"\n",
    "    feature_importance_df = pd.DataFrame()\n",
    "    for i, model in enumerate(models):\n",
    "        _df = pd.DataFrame()\n",
    "        _df[\"feature_importance\"] = model.feature_importances_\n",
    "        _df[\"column\"] = feat_train_df.columns\n",
    "        _df[\"fold\"] = i + 1\n",
    "        feature_importance_df = pd.concat([feature_importance_df, _df], axis=0, ignore_index=True)\n",
    "        \n",
    "    order = feature_importance_df.groupby(\"column\")\\\n",
    "    .sum()[[\"feature_importance\"]]\\\n",
    "    .sort_values(\"feature_importance\", ascending=False).index[:50]\n",
    "    fig, ax = plt.subplots(figsize=(max(6, len(order) * .4), 7))\n",
    "    sns.boxenplot(data=feature_importance_df, x=\"column\", y=\"feature_importance\", order=order, ax=ax, palette=\"viridis\")\n",
    "    ax.tick_params(axis=\"x\", rotation=90)\n",
    "    ax.grid()\n",
    "    fig.tight_layout()\n",
    "    return fig, ax"
   ]
  },
  {
   "cell_type": "code",
   "execution_count": 29,
   "metadata": {},
   "outputs": [
    {
     "data": {
      "image/png": "[encoded data removed]",
      "text/plain": [
       "<Figure size 432x504 with 1 Axes>"
      ]
     },
     "metadata": {
      "needs_background": "light"
     },
     "output_type": "display_data"
    }
   ],
   "source": [
    "fig, ax = visualize_importance(models, train_feat_df)"
   ]
  },
  {
   "cell_type": "code",
   "execution_count": 31,
   "metadata": {},
   "outputs": [],
   "source": [
    "pred = np.array([model.predict(test_feat_df.values) for model in models])\n",
    "pred = np.mean(pred, axis=0)\n",
    "pred = np.where(pred < 0, 0, pred)"
   ]
  },
  {
   "cell_type": "code",
   "execution_count": 32,
   "metadata": {},
   "outputs": [
    {
     "data": {
      "image/png": "[encoded data removed]",
      "text/plain": [
       "<Figure size 576x576 with 1 Axes>"
      ]
     },
     "metadata": {
      "needs_background": "light"
     },
     "output_type": "display_data"
    }
   ],
   "source": [
    "fig, ax = plt.subplots(figsize=(8, 8))\n",
    "sns.distplot(np.log1p(pred), label=\"Test Predict\")\n",
    "sns.distplot(np.log1p(oof), label=\"Out of Fold\")\n",
    "ax.legend()\n",
    "ax.grid()"
   ]
  }
 ],
 "metadata": {
  "kernelspec": {
   "display_name": "Python 3",
   "language": "python",
   "name": "python3"
  },
  "language_info": {
   "codemirror_mode": {
    "name": "ipython",
    "version": 3
   },
   "file_extension": ".py",
   "mimetype": "text/x-python",
   "name": "python",
   "nbconvert_exporter": "python",
   "pygments_lexer": "ipython3",
   "version": "3.7.6"
  }
 },
 "nbformat": 4,
 "nbformat_minor": 4
}
