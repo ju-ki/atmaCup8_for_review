{
 "cells": [
  {
   "cell_type": "code",
   "execution_count": 1,
   "metadata": {},
   "outputs": [],
   "source": [
    "import os\n",
    "import pandas as pd\n",
    "import matplotlib.pyplot as plt\n",
    "import seaborn as sns\n",
    "import numpy as np\n",
    "\n",
    "sns.set_style('ticks')\n",
    "\n",
    "INPUT = \"./input/\"\n",
    "OUTPUT = \"./output/\"\n",
    "\n",
    "os.makedirs(OUTPUT, exist_ok=True)\n",
    "\n",
    "train = pd.read_csv(os.path.join(INPUT, \"train.csv\"))\n",
    "test = pd.read_csv(os.path.join(INPUT, \"test.csv\"))\n",
    "whole_df = pd.concat([train, test], ignore_index=True)"
   ]
  },
  {
   "cell_type": "code",
   "execution_count": 2,
   "metadata": {},
   "outputs": [],
   "source": [
    "def preprocess(input_df: pd.DataFrame) -> pd.DataFrame:\n",
    "    output_df = input_df.copy()\n",
    "\n",
    "    idx_tbd = input_df['User_Score'] == 'tbd'\n",
    "    output_df['User_Score_is_tbd'] = idx_tbd.astype(int)\n",
    "\n",
    "    output_df['User_Score'] = input_df['User_Score'].replace('tbd', None).astype(float)\n",
    "    return output_df\n",
    "\n",
    "def create_continuous_features(input_df):\n",
    "    input_df = preprocess(input_df)\n",
    "    use_columns = [\n",
    "        # 連続変数\n",
    "        'Critic_Score',\n",
    "        'Critic_Count', \n",
    "        'User_Score', \n",
    "        'User_Count',\n",
    "        'Year_of_Release',\n",
    "        'User_Score_is_tbd'\n",
    "    ]\n",
    "    return input_df[use_columns].copy()"
   ]
  },
  {
   "cell_type": "code",
   "execution_count": 3,
   "metadata": {},
   "outputs": [],
   "source": [
    "def create_boolean_feature(input_df):\n",
    "    output_df = pd.DataFrame()\n",
    "\n",
    "    texts = [\n",
    "        'japan', 'nintendo'\n",
    "    ]\n",
    "\n",
    "    for t in texts:\n",
    "        output_df[f'Developer_has_{t}'] = input_df['Developer'].fillna('').str.lower().str.contains(t).astype(int)\n",
    "    return output_df"
   ]
  },
  {
   "cell_type": "code",
   "execution_count": 4,
   "metadata": {},
   "outputs": [],
   "source": [
    "class BaseBlock(object):\n",
    "    def fit(self, input_df, y=None):\n",
    "        return self.transform(input_df)\n",
    "    def transform(self, input_df):\n",
    "        raise NotImplementedError()"
   ]
  },
  {
   "cell_type": "code",
   "execution_count": 5,
   "metadata": {},
   "outputs": [
    {
     "data": {
      "text/plain": [
       "array([7, 4, 7, ..., 1, 2, 2], dtype=object)"
      ]
     },
     "execution_count": 5,
     "metadata": {},
     "output_type": "execute_result"
    }
   ],
   "source": [
    "_df = train.groupby(\"Name\")[\"Platform\"].count()\n",
    "pd.merge(train[\"Name\"], _df, on=\"Name\", how=\"left\").values[:, 1]"
   ]
  },
  {
   "cell_type": "code",
   "execution_count": 6,
   "metadata": {},
   "outputs": [
    {
     "data": {
      "text/plain": [
       "array([7, 4, 7, ..., 1, 2, 2])"
      ]
     },
     "execution_count": 6,
     "metadata": {},
     "output_type": "execute_result"
    }
   ],
   "source": [
    "vc = train[\"Name\"].value_counts()\n",
    "train[\"Name\"].map(vc).values"
   ]
  },
  {
   "cell_type": "code",
   "execution_count": 7,
   "metadata": {},
   "outputs": [],
   "source": [
    "class CountEncodingBlock(BaseBlock):\n",
    "    def __init__(self, column, whole_df: pd.DataFrame):\n",
    "        self.column = column\n",
    "        self.whole_df = whole_df\n",
    "        \n",
    "    def transform(self, input_df):\n",
    "        output_df = pd.DataFrame()\n",
    "        c = self.column\n",
    "        \n",
    "        vc = self.whole_df[c].value_counts()\n",
    "        output_df[c] = input_df[c].map(vc)\n",
    "        return output_df.add_prefix(\"CE_\")\n"
   ]
  },
  {
   "cell_type": "code",
   "execution_count": 8,
   "metadata": {},
   "outputs": [],
   "source": [
    "assert len(train) == len(CountEncodingBlock(\"Name\", whole_df=whole_df).fit(train))"
   ]
  },
  {
   "cell_type": "code",
   "execution_count": 9,
   "metadata": {},
   "outputs": [],
   "source": [
    "class OneHotBlock(BaseBlock):\n",
    "    def __init__(self, column: str):\n",
    "        self.column = column\n",
    "        self.cats_ = None\n",
    "        \n",
    "    def fit(self, input_df, y=None):\n",
    "        vc = input_df[self.column].dropna().value_counts()\n",
    "        cats = vc[vc > 40].index\n",
    "        self.cats_ = cats\n",
    "        return self.transform(input_df)\n",
    "    \n",
    "    def transform(self, input_df):\n",
    "        x = pd.Categorical(input_df[self.column], categories=self.cats_)\n",
    "        out_df = pd.get_dummies(x, dummy_na=False)\n",
    "        out_df.columns = out_df.columns.tolist()\n",
    "        return out_df.add_prefix(f\"OH_{self.column}=\")"
   ]
  },
  {
   "cell_type": "code",
   "execution_count": 10,
   "metadata": {},
   "outputs": [
    {
     "data": {
      "text/plain": [
       "OH_Platform=DS      1106\n",
       "OH_Platform=PS2     1104\n",
       "OH_Platform=Wii      645\n",
       "OH_Platform=PS3      643\n",
       "OH_Platform=PSP      642\n",
       "OH_Platform=X360     588\n",
       "OH_Platform=PS       512\n",
       "OH_Platform=GBA      445\n",
       "OH_Platform=PC       439\n",
       "OH_Platform=XB       371\n",
       "OH_Platform=3DS      270\n",
       "OH_Platform=GC       240\n",
       "OH_Platform=PSV      240\n",
       "OH_Platform=PS4      206\n",
       "OH_Platform=SNES     130\n",
       "OH_Platform=SAT      129\n",
       "OH_Platform=N64      125\n",
       "OH_Platform=XOne     121\n",
       "OH_Platform=2600      88\n",
       "OH_Platform=WiiU      87\n",
       "OH_Platform=GB        78\n",
       "OH_Platform=NES       66\n",
       "OH_Platform=DC        41\n",
       "dtype: int64"
      ]
     },
     "execution_count": 10,
     "metadata": {},
     "output_type": "execute_result"
    }
   ],
   "source": [
    "OneHotBlock(\"Platform\").fit(train).sum(axis=0)"
   ]
  },
  {
   "cell_type": "code",
   "execution_count": 11,
   "metadata": {},
   "outputs": [],
   "source": [
    "from textdistance import jaro"
   ]
  },
  {
   "cell_type": "code",
   "execution_count": 12,
   "metadata": {},
   "outputs": [
    {
     "data": {
      "text/plain": [
       "0.5555555555555555"
      ]
     },
     "execution_count": 12,
     "metadata": {},
     "output_type": "execute_result"
    }
   ],
   "source": [
    "jaro(\"foo\", \"f09\")"
   ]
  },
  {
   "cell_type": "code",
   "execution_count": 13,
   "metadata": {},
   "outputs": [
    {
     "data": {
      "text/plain": [
       "'Frogs And Flies'"
      ]
     },
     "execution_count": 13,
     "metadata": {},
     "output_type": "execute_result"
    }
   ],
   "source": [
    "query = train[\"Name\"].values[100]\n",
    "query"
   ]
  },
  {
   "cell_type": "code",
   "execution_count": 14,
   "metadata": {},
   "outputs": [
    {
     "data": {
      "text/plain": [
       "100    Frogs And Flies\n",
       "Name: Name, dtype: object"
      ]
     },
     "execution_count": 14,
     "metadata": {},
     "output_type": "execute_result"
    }
   ],
   "source": [
    "results = train[\"Name\"].map(lambda x: jaro(query, x))\n",
    "train[\"Name\"][results > .8]"
   ]
  },
  {
   "cell_type": "code",
   "execution_count": 15,
   "metadata": {},
   "outputs": [],
   "source": [
    "import texthero as hero\n",
    "from texthero import preprocessing"
   ]
  },
  {
   "cell_type": "code",
   "execution_count": 16,
   "metadata": {},
   "outputs": [],
   "source": [
    "custom_pipeline = [\n",
    "    preprocessing.fillna,\n",
    "    preprocessing.lowercase,\n",
    "    preprocessing.remove_digits,\n",
    "    preprocessing.remove_punctuation,\n",
    "    preprocessing.remove_diacritics,\n",
    "    preprocessing.remove_whitespace,\n",
    "    preprocessing.remove_stopwords\n",
    "]"
   ]
  },
  {
   "cell_type": "code",
   "execution_count": 17,
   "metadata": {},
   "outputs": [
    {
     "name": "stderr",
     "output_type": "stream",
     "text": [
      "/opt/anaconda3/lib/python3.7/site-packages/texthero/preprocessing.py:72: FutureWarning: The default value of regex will change from True to False in a future version.\n",
      "  return input.str.replace(pattern, symbols)\n",
      "/opt/anaconda3/lib/python3.7/site-packages/texthero/preprocessing.py:131: FutureWarning: The default value of regex will change from True to False in a future version.\n",
      "  return input.str.replace(rf\"([{string.punctuation}])+\", symbol)\n"
     ]
    }
   ],
   "source": [
    "names = hero.clean(whole_df[\"Name\"], custom_pipeline)"
   ]
  },
  {
   "cell_type": "code",
   "execution_count": 18,
   "metadata": {},
   "outputs": [],
   "source": [
    "words = [w for row in names.str.split(\" \") for w in row if len(w) > 0]"
   ]
  },
  {
   "cell_type": "code",
   "execution_count": 19,
   "metadata": {},
   "outputs": [
    {
     "data": {
      "text/plain": [
       "<matplotlib.axes._subplots.AxesSubplot at 0x7fdf7e1756d0>"
      ]
     },
     "execution_count": 19,
     "metadata": {},
     "output_type": "execute_result"
    },
    {
     "data": {
      "image/png": "[encoded data removed]",
      "text/plain": [
       "<Figure size 432x288 with 1 Axes>"
      ]
     },
     "metadata": {},
     "output_type": "display_data"
    }
   ],
   "source": [
    "pd.Series(words).value_counts().head(30).plot(kind=\"barh\")"
   ]
  },
  {
   "cell_type": "code",
   "execution_count": 20,
   "metadata": {},
   "outputs": [],
   "source": [
    "from nltk.util import ngrams\n",
    "\n",
    "def line_ngram(line, n=2):\n",
    "    words = [w for w in line.split(' ') if len(w) != 0] # 空文字は取り除く\n",
    "    return list(ngrams(words, n))"
   ]
  },
  {
   "cell_type": "code",
   "execution_count": 21,
   "metadata": {},
   "outputs": [],
   "source": [
    "name_grams = names.map(line_ngram)"
   ]
  },
  {
   "cell_type": "code",
   "execution_count": 22,
   "metadata": {},
   "outputs": [
    {
     "data": {
      "text/plain": [
       "'LEGO Batman: The Videogame'"
      ]
     },
     "execution_count": 22,
     "metadata": {},
     "output_type": "execute_result"
    }
   ],
   "source": [
    "train[\"Name\"][0]"
   ]
  },
  {
   "cell_type": "code",
   "execution_count": 23,
   "metadata": {},
   "outputs": [
    {
     "data": {
      "text/plain": [
       "[('lego', 'batman'), ('batman', 'videogame')]"
      ]
     },
     "execution_count": 23,
     "metadata": {},
     "output_type": "execute_result"
    }
   ],
   "source": [
    "name_grams[0]"
   ]
  },
  {
   "cell_type": "code",
   "execution_count": 24,
   "metadata": {},
   "outputs": [
    {
     "data": {
      "text/plain": [
       "(star, wars)           123\n",
       "(madden, nfl)           96\n",
       "(final, fantasy)        91\n",
       "(jp, sales)             88\n",
       "(pro, yakyuu)           88\n",
       "(tom, clancy)           85\n",
       "(need, speed)           83\n",
       "(dragon, ball)          76\n",
       "(jikkyou, powerful)     70\n",
       "(fifa, soccer)          70\n",
       "(harry, potter)         68\n",
       "(powerful, pro)         66\n",
       "(spider, man)           66\n",
       "(pro, evolution)        65\n",
       "(call, duty)            65\n",
       "(evolution, soccer)     64\n",
       "(resident, evil)        63\n",
       "(mega, man)             60\n",
       "(pga, tour)             59\n",
       "(super, robot)          58\n",
       "dtype: int64"
      ]
     },
     "execution_count": 24,
     "metadata": {},
     "output_type": "execute_result"
    }
   ],
   "source": [
    "grams = [x for row in name_grams for x in row if len(x) > 0]\n",
    "pd.Series(grams).value_counts().head(20)"
   ]
  },
  {
   "cell_type": "code",
   "execution_count": 25,
   "metadata": {},
   "outputs": [
    {
     "data": {
      "text/plain": [
       "123"
      ]
     },
     "execution_count": 25,
     "metadata": {},
     "output_type": "execute_result"
    }
   ],
   "source": [
    "top_grams = pd.Series(grams).value_counts().head(20).index\n",
    "w = top_grams[0]\n",
    "name_grams.map(lambda x: w in x).sum()"
   ]
  },
  {
   "cell_type": "code",
   "execution_count": 26,
   "metadata": {},
   "outputs": [],
   "source": [
    "def clean_by_hero(x):\n",
    "    custom_pipeline = [\n",
    "        preprocessing.fillna,\n",
    "        preprocessing.lowercase,\n",
    "        preprocessing.remove_digits,\n",
    "        preprocessing.remove_punctuation,\n",
    "        preprocessing.remove_diacritics,\n",
    "        preprocessing.remove_whitespace,\n",
    "        preprocessing.remove_stopwords\n",
    "    ]\n",
    "    return hero.clean(x, custom_pipeline)\n",
    "\n",
    "def create_n_gram(x, n=3):\n",
    "    x = clean_by_hero(x)\n",
    "    x = pd.Series(x).map(lambda r: line_ngram(r, n=n))\n",
    "    return x\n",
    "\n",
    "class NameGramBlock(BaseBlock):\n",
    "    def __init__(self, whole_df, n=3):\n",
    "        self.whole_df = whole_df\n",
    "        self.n = n\n",
    "        \n",
    "    def fit(self, input_df, y=None):\n",
    "        name_grams = create_n_gram(self.whole_df[\"Name\"], n=self.n)\n",
    "        grams = [x for row in name_grams for x in row if len(x) > 0]\n",
    "        top_grams = pd.Series(grams).value_counts().head(20).index\n",
    "        \n",
    "        self.top_grams_ = top_grams\n",
    "        return self.transform(input_df)\n",
    "    \n",
    "    def transform(self, input_df):\n",
    "        name_grams = create_n_gram(input_df[\"Name\"], n=self.n)\n",
    "        output_df = pd.DataFrame()\n",
    "        \n",
    "        for top in self.top_grams_:\n",
    "            s_top = \"-\".join(top)\n",
    "            output_df[f\"{s_top}\"] = name_grams.map(lambda x: top in x).map(int)\n",
    "            \n",
    "        return output_df.add_prefix(\"Name_has_\").add_suffix(f'_n={self.n}')"
   ]
  },
  {
   "cell_type": "code",
   "execution_count": 27,
   "metadata": {},
   "outputs": [
    {
     "data": {
      "text/html": [
       "<div>\n",
       "<style scoped>\n",
       "    .dataframe tbody tr th:only-of-type {\n",
       "        vertical-align: middle;\n",
       "    }\n",
       "\n",
       "    .dataframe tbody tr th {\n",
       "        vertical-align: top;\n",
       "    }\n",
       "\n",
       "    .dataframe thead th {\n",
       "        text-align: right;\n",
       "    }\n",
       "</style>\n",
       "<table border=\"1\" class=\"dataframe\">\n",
       "  <thead>\n",
       "    <tr style=\"text-align: right;\">\n",
       "      <th></th>\n",
       "      <th>Name_has_major-league-baseball_n=3</th>\n",
       "      <th>Name_has_grand-theft-auto_n=3</th>\n",
       "      <th>Name_has_wwe-smackdown-vs_n=3</th>\n",
       "      <th>Name_has_super-robot-taisen_n=3</th>\n",
       "      <th>Name_has_smackdown-vs-raw_n=3</th>\n",
       "      <th>Name_has_shin-megami-tensei_n=3</th>\n",
       "      <th>Name_has_lego-star-wars_n=3</th>\n",
       "      <th>Name_has_dragon-ball-z_n=3</th>\n",
       "      <th>Name_has_katekyoo-hitman-reborn_n=3</th>\n",
       "      <th>Name_has_star-wars-force_n=3</th>\n",
       "      <th>Name_has_romance-three-kingdoms_n=3</th>\n",
       "      <th>Name_has_marvel-super-heroes_n=3</th>\n",
       "      <th>Name_has_pachi-slot-kouryaku_n=3</th>\n",
       "      <th>Name_has_mx-vs-atv_n=3</th>\n",
       "      <th>Name_has_slot-kouryaku-series_n=3</th>\n",
       "      <th>Name_has_lego-harry-potter_n=3</th>\n",
       "      <th>Name_has_hisshou-pachinko-pachi_n=3</th>\n",
       "      <th>Name_has_pachinko-pachi-slot_n=3</th>\n",
       "      <th>Name_has_rock-band-track_n=3</th>\n",
       "      <th>Name_has_band-track-pack_n=3</th>\n",
       "    </tr>\n",
       "  </thead>\n",
       "  <tbody>\n",
       "    <tr>\n",
       "      <th>0</th>\n",
       "      <td>0</td>\n",
       "      <td>0</td>\n",
       "      <td>0</td>\n",
       "      <td>0</td>\n",
       "      <td>0</td>\n",
       "      <td>0</td>\n",
       "      <td>0</td>\n",
       "      <td>0</td>\n",
       "      <td>0</td>\n",
       "      <td>0</td>\n",
       "      <td>0</td>\n",
       "      <td>0</td>\n",
       "      <td>0</td>\n",
       "      <td>0</td>\n",
       "      <td>0</td>\n",
       "      <td>0</td>\n",
       "      <td>0</td>\n",
       "      <td>0</td>\n",
       "      <td>0</td>\n",
       "      <td>0</td>\n",
       "    </tr>\n",
       "    <tr>\n",
       "      <th>1</th>\n",
       "      <td>0</td>\n",
       "      <td>0</td>\n",
       "      <td>0</td>\n",
       "      <td>0</td>\n",
       "      <td>0</td>\n",
       "      <td>0</td>\n",
       "      <td>0</td>\n",
       "      <td>0</td>\n",
       "      <td>0</td>\n",
       "      <td>0</td>\n",
       "      <td>0</td>\n",
       "      <td>0</td>\n",
       "      <td>0</td>\n",
       "      <td>0</td>\n",
       "      <td>0</td>\n",
       "      <td>0</td>\n",
       "      <td>0</td>\n",
       "      <td>0</td>\n",
       "      <td>0</td>\n",
       "      <td>0</td>\n",
       "    </tr>\n",
       "    <tr>\n",
       "      <th>2</th>\n",
       "      <td>0</td>\n",
       "      <td>0</td>\n",
       "      <td>0</td>\n",
       "      <td>0</td>\n",
       "      <td>0</td>\n",
       "      <td>0</td>\n",
       "      <td>0</td>\n",
       "      <td>0</td>\n",
       "      <td>0</td>\n",
       "      <td>0</td>\n",
       "      <td>0</td>\n",
       "      <td>0</td>\n",
       "      <td>0</td>\n",
       "      <td>0</td>\n",
       "      <td>0</td>\n",
       "      <td>0</td>\n",
       "      <td>0</td>\n",
       "      <td>0</td>\n",
       "      <td>0</td>\n",
       "      <td>0</td>\n",
       "    </tr>\n",
       "    <tr>\n",
       "      <th>3</th>\n",
       "      <td>0</td>\n",
       "      <td>0</td>\n",
       "      <td>0</td>\n",
       "      <td>0</td>\n",
       "      <td>0</td>\n",
       "      <td>0</td>\n",
       "      <td>0</td>\n",
       "      <td>0</td>\n",
       "      <td>0</td>\n",
       "      <td>0</td>\n",
       "      <td>0</td>\n",
       "      <td>0</td>\n",
       "      <td>0</td>\n",
       "      <td>0</td>\n",
       "      <td>0</td>\n",
       "      <td>0</td>\n",
       "      <td>0</td>\n",
       "      <td>0</td>\n",
       "      <td>0</td>\n",
       "      <td>0</td>\n",
       "    </tr>\n",
       "    <tr>\n",
       "      <th>4</th>\n",
       "      <td>0</td>\n",
       "      <td>0</td>\n",
       "      <td>0</td>\n",
       "      <td>0</td>\n",
       "      <td>0</td>\n",
       "      <td>0</td>\n",
       "      <td>0</td>\n",
       "      <td>0</td>\n",
       "      <td>0</td>\n",
       "      <td>0</td>\n",
       "      <td>0</td>\n",
       "      <td>0</td>\n",
       "      <td>0</td>\n",
       "      <td>0</td>\n",
       "      <td>0</td>\n",
       "      <td>1</td>\n",
       "      <td>0</td>\n",
       "      <td>0</td>\n",
       "      <td>0</td>\n",
       "      <td>0</td>\n",
       "    </tr>\n",
       "  </tbody>\n",
       "</table>\n",
       "</div>"
      ],
      "text/plain": [
       "   Name_has_major-league-baseball_n=3  Name_has_grand-theft-auto_n=3  \\\n",
       "0                                   0                              0   \n",
       "1                                   0                              0   \n",
       "2                                   0                              0   \n",
       "3                                   0                              0   \n",
       "4                                   0                              0   \n",
       "\n",
       "   Name_has_wwe-smackdown-vs_n=3  Name_has_super-robot-taisen_n=3  \\\n",
       "0                              0                                0   \n",
       "1                              0                                0   \n",
       "2                              0                                0   \n",
       "3                              0                                0   \n",
       "4                              0                                0   \n",
       "\n",
       "   Name_has_smackdown-vs-raw_n=3  Name_has_shin-megami-tensei_n=3  \\\n",
       "0                              0                                0   \n",
       "1                              0                                0   \n",
       "2                              0                                0   \n",
       "3                              0                                0   \n",
       "4                              0                                0   \n",
       "\n",
       "   Name_has_lego-star-wars_n=3  Name_has_dragon-ball-z_n=3  \\\n",
       "0                            0                           0   \n",
       "1                            0                           0   \n",
       "2                            0                           0   \n",
       "3                            0                           0   \n",
       "4                            0                           0   \n",
       "\n",
       "   Name_has_katekyoo-hitman-reborn_n=3  Name_has_star-wars-force_n=3  \\\n",
       "0                                    0                             0   \n",
       "1                                    0                             0   \n",
       "2                                    0                             0   \n",
       "3                                    0                             0   \n",
       "4                                    0                             0   \n",
       "\n",
       "   Name_has_romance-three-kingdoms_n=3  Name_has_marvel-super-heroes_n=3  \\\n",
       "0                                    0                                 0   \n",
       "1                                    0                                 0   \n",
       "2                                    0                                 0   \n",
       "3                                    0                                 0   \n",
       "4                                    0                                 0   \n",
       "\n",
       "   Name_has_pachi-slot-kouryaku_n=3  Name_has_mx-vs-atv_n=3  \\\n",
       "0                                 0                       0   \n",
       "1                                 0                       0   \n",
       "2                                 0                       0   \n",
       "3                                 0                       0   \n",
       "4                                 0                       0   \n",
       "\n",
       "   Name_has_slot-kouryaku-series_n=3  Name_has_lego-harry-potter_n=3  \\\n",
       "0                                  0                               0   \n",
       "1                                  0                               0   \n",
       "2                                  0                               0   \n",
       "3                                  0                               0   \n",
       "4                                  0                               1   \n",
       "\n",
       "   Name_has_hisshou-pachinko-pachi_n=3  Name_has_pachinko-pachi-slot_n=3  \\\n",
       "0                                    0                                 0   \n",
       "1                                    0                                 0   \n",
       "2                                    0                                 0   \n",
       "3                                    0                                 0   \n",
       "4                                    0                                 0   \n",
       "\n",
       "   Name_has_rock-band-track_n=3  Name_has_band-track-pack_n=3  \n",
       "0                             0                             0  \n",
       "1                             0                             0  \n",
       "2                             0                             0  \n",
       "3                             0                             0  \n",
       "4                             0                             0  "
      ]
     },
     "execution_count": 27,
     "metadata": {},
     "output_type": "execute_result"
    }
   ],
   "source": [
    "block = NameGramBlock(train, n=3)\n",
    "block.fit(train).head()"
   ]
  },
  {
   "cell_type": "code",
   "execution_count": 28,
   "metadata": {},
   "outputs": [
    {
     "name": "stderr",
     "output_type": "stream",
     "text": [
      "/opt/anaconda3/lib/python3.7/site-packages/texthero/preprocessing.py:72: FutureWarning: The default value of regex will change from True to False in a future version.\n",
      "  return input.str.replace(pattern, symbols)\n",
      "/opt/anaconda3/lib/python3.7/site-packages/texthero/preprocessing.py:131: FutureWarning: The default value of regex will change from True to False in a future version.\n",
      "  return input.str.replace(rf\"([{string.punctuation}])+\", symbol)\n"
     ]
    },
    {
     "data": {
      "text/plain": [
       "Name_has_major-league-baseball_n=3     14\n",
       "Name_has_grand-theft-auto_n=3           0\n",
       "Name_has_wwe-smackdown-vs_n=3           1\n",
       "Name_has_super-robot-taisen_n=3        16\n",
       "Name_has_smackdown-vs-raw_n=3           1\n",
       "Name_has_shin-megami-tensei_n=3         1\n",
       "Name_has_lego-star-wars_n=3             6\n",
       "Name_has_dragon-ball-z_n=3             24\n",
       "Name_has_katekyoo-hitman-reborn_n=3     0\n",
       "Name_has_star-wars-force_n=3            0\n",
       "Name_has_romance-three-kingdoms_n=3     0\n",
       "Name_has_marvel-super-heroes_n=3        2\n",
       "Name_has_pachi-slot-kouryaku_n=3        0\n",
       "Name_has_mx-vs-atv_n=3                  4\n",
       "Name_has_slot-kouryaku-series_n=3       0\n",
       "Name_has_lego-harry-potter_n=3          0\n",
       "Name_has_hisshou-pachinko-pachi_n=3     0\n",
       "Name_has_pachinko-pachi-slot_n=3        0\n",
       "Name_has_rock-band-track_n=3            0\n",
       "Name_has_band-track-pack_n=3            0\n",
       "dtype: int64"
      ]
     },
     "execution_count": 28,
     "metadata": {},
     "output_type": "execute_result"
    }
   ],
   "source": [
    "block.transform(test).sum()"
   ]
  },
  {
   "cell_type": "code",
   "execution_count": 29,
   "metadata": {},
   "outputs": [
    {
     "data": {
      "text/plain": [
       "['EU_Sales', 'Global_Sales', 'JP_Sales', 'NA_Sales', 'Other_Sales']"
      ]
     },
     "execution_count": 29,
     "metadata": {},
     "output_type": "execute_result"
    }
   ],
   "source": [
    "sales_columns = train.columns[train.columns.str.contains(\"Sales\")].tolist()\n",
    "sales_columns = sorted(sales_columns)\n",
    "sales_columns"
   ]
  },
  {
   "cell_type": "code",
   "execution_count": 30,
   "metadata": {},
   "outputs": [
    {
     "data": {
      "text/html": [
       "<div>\n",
       "<style scoped>\n",
       "    .dataframe tbody tr th:only-of-type {\n",
       "        vertical-align: middle;\n",
       "    }\n",
       "\n",
       "    .dataframe tbody tr th {\n",
       "        vertical-align: top;\n",
       "    }\n",
       "\n",
       "    .dataframe thead th {\n",
       "        text-align: right;\n",
       "    }\n",
       "</style>\n",
       "<table border=\"1\" class=\"dataframe\">\n",
       "  <thead>\n",
       "    <tr style=\"text-align: right;\">\n",
       "      <th></th>\n",
       "      <th>EU_Sales</th>\n",
       "      <th>Global_Sales</th>\n",
       "      <th>JP_Sales</th>\n",
       "      <th>NA_Sales</th>\n",
       "      <th>Other_Sales</th>\n",
       "    </tr>\n",
       "    <tr>\n",
       "      <th>Genre</th>\n",
       "      <th></th>\n",
       "      <th></th>\n",
       "      <th></th>\n",
       "      <th></th>\n",
       "      <th></th>\n",
       "    </tr>\n",
       "  </thead>\n",
       "  <tbody>\n",
       "    <tr>\n",
       "      <th>Action</th>\n",
       "      <td>30483</td>\n",
       "      <td>106343</td>\n",
       "      <td>10165</td>\n",
       "      <td>54010</td>\n",
       "      <td>11610</td>\n",
       "    </tr>\n",
       "    <tr>\n",
       "      <th>Adventure</th>\n",
       "      <td>4522</td>\n",
       "      <td>16634</td>\n",
       "      <td>3753</td>\n",
       "      <td>7229</td>\n",
       "      <td>1131</td>\n",
       "    </tr>\n",
       "    <tr>\n",
       "      <th>Fighting</th>\n",
       "      <td>5807</td>\n",
       "      <td>27258</td>\n",
       "      <td>5808</td>\n",
       "      <td>13313</td>\n",
       "      <td>2307</td>\n",
       "    </tr>\n",
       "    <tr>\n",
       "      <th>Misc</th>\n",
       "      <td>13411</td>\n",
       "      <td>48441</td>\n",
       "      <td>7803</td>\n",
       "      <td>22588</td>\n",
       "      <td>4601</td>\n",
       "    </tr>\n",
       "    <tr>\n",
       "      <th>Platform</th>\n",
       "      <td>16573</td>\n",
       "      <td>71149</td>\n",
       "      <td>12114</td>\n",
       "      <td>38119</td>\n",
       "      <td>4320</td>\n",
       "    </tr>\n",
       "    <tr>\n",
       "      <th>Puzzle</th>\n",
       "      <td>3871</td>\n",
       "      <td>19153</td>\n",
       "      <td>4497</td>\n",
       "      <td>9849</td>\n",
       "      <td>921</td>\n",
       "    </tr>\n",
       "    <tr>\n",
       "      <th>Racing</th>\n",
       "      <td>13039</td>\n",
       "      <td>44301</td>\n",
       "      <td>5026</td>\n",
       "      <td>21745</td>\n",
       "      <td>4465</td>\n",
       "    </tr>\n",
       "    <tr>\n",
       "      <th>Role-Playing</th>\n",
       "      <td>13536</td>\n",
       "      <td>72067</td>\n",
       "      <td>29886</td>\n",
       "      <td>24282</td>\n",
       "      <td>4348</td>\n",
       "    </tr>\n",
       "    <tr>\n",
       "      <th>Shooter</th>\n",
       "      <td>10890</td>\n",
       "      <td>43028</td>\n",
       "      <td>1964</td>\n",
       "      <td>26631</td>\n",
       "      <td>3506</td>\n",
       "    </tr>\n",
       "    <tr>\n",
       "      <th>Simulation</th>\n",
       "      <td>5357</td>\n",
       "      <td>18452</td>\n",
       "      <td>4056</td>\n",
       "      <td>7749</td>\n",
       "      <td>1288</td>\n",
       "    </tr>\n",
       "    <tr>\n",
       "      <th>Sports</th>\n",
       "      <td>14727</td>\n",
       "      <td>53700</td>\n",
       "      <td>6299</td>\n",
       "      <td>27919</td>\n",
       "      <td>4742</td>\n",
       "    </tr>\n",
       "    <tr>\n",
       "      <th>Strategy</th>\n",
       "      <td>2094</td>\n",
       "      <td>9199</td>\n",
       "      <td>3160</td>\n",
       "      <td>3354</td>\n",
       "      <td>571</td>\n",
       "    </tr>\n",
       "  </tbody>\n",
       "</table>\n",
       "</div>"
      ],
      "text/plain": [
       "              EU_Sales  Global_Sales  JP_Sales  NA_Sales  Other_Sales\n",
       "Genre                                                                \n",
       "Action           30483        106343     10165     54010        11610\n",
       "Adventure         4522         16634      3753      7229         1131\n",
       "Fighting          5807         27258      5808     13313         2307\n",
       "Misc             13411         48441      7803     22588         4601\n",
       "Platform         16573         71149     12114     38119         4320\n",
       "Puzzle            3871         19153      4497      9849          921\n",
       "Racing           13039         44301      5026     21745         4465\n",
       "Role-Playing     13536         72067     29886     24282         4348\n",
       "Shooter          10890         43028      1964     26631         3506\n",
       "Simulation        5357         18452      4056      7749         1288\n",
       "Sports           14727         53700      6299     27919         4742\n",
       "Strategy          2094          9199      3160      3354          571"
      ]
     },
     "execution_count": 30,
     "metadata": {},
     "output_type": "execute_result"
    }
   ],
   "source": [
    "key = \"Genre\"\n",
    "input_df = train\n",
    "input_df[sales_columns].groupby(input_df[key]).sum()"
   ]
  },
  {
   "cell_type": "code",
   "execution_count": 31,
   "metadata": {},
   "outputs": [],
   "source": [
    "class SalesPortfolioBlock(BaseBlock):\n",
    "    \"\"\"売上ポートフォリオ\"\"\"\n",
    "\n",
    "    def __init__(self, key: str):\n",
    "        self.key = key    \n",
    "        self.meta_df = None\n",
    "\n",
    "    def fit(self, input_df):\n",
    "        _df = input_df[sales_columns].groupby(input_df[self.key]).sum()\n",
    "        _df = (_df.T / _df.sum(axis=1)).T\n",
    "        self.meta_df = _df\n",
    "        return self.transform(input_df)\n",
    "\n",
    "    def transform(self, input_df):\n",
    "        out_df = pd.merge(input_df[self.key], self.meta_df, on=self.key, how='left').drop(columns=[self.key])\n",
    "        out_df = out_df.add_prefix(f'SP@{self.key}_')\n",
    "        return out_df"
   ]
  },
  {
   "cell_type": "code",
   "execution_count": 32,
   "metadata": {},
   "outputs": [],
   "source": [
    "class WrapperBlock(BaseBlock):\n",
    "    def __init__(self, function):\n",
    "        self.function = function\n",
    "        \n",
    "    def transform(self, input_df):\n",
    "        return self.function(input_df)"
   ]
  },
  {
   "cell_type": "code",
   "execution_count": 33,
   "metadata": {},
   "outputs": [],
   "source": [
    "from contextlib import contextmanager\n",
    "from time import time\n",
    "\n",
    "@contextmanager\n",
    "def timer(logger=None, format_str=\"{:.3f}[s]\", prefix=None, suffix=None):\n",
    "    if prefix:\n",
    "        format_str = str(prefix) + format_str\n",
    "    if suffix:\n",
    "        format_str = format_str + str(suffix)\n",
    "    start = time()\n",
    "    yield\n",
    "    d = time() - start\n",
    "    out_str = format_str.format(d)\n",
    "    if logger:\n",
    "        logger.info(out_str)\n",
    "    else:\n",
    "        print(out_str)"
   ]
  },
  {
   "cell_type": "code",
   "execution_count": 34,
   "metadata": {},
   "outputs": [],
   "source": [
    "process_blocks = [\n",
    "    WrapperBlock(create_continuous_features),\n",
    "    WrapperBlock(create_boolean_feature),\n",
    "    NameGramBlock(whole_df, n=3),\n",
    "    *[OneHotBlock(c) for c in ['Platform', 'Genre', 'Publisher', 'Rating']],\n",
    "    *[CountEncodingBlock(c, whole_df=whole_df) for c in ['Name', 'Platform', 'Year_of_Release']],\n",
    "    *[SalesPortfolioBlock(c) for c in ['Genre']]\n",
    "]"
   ]
  },
  {
   "cell_type": "code",
   "execution_count": 36,
   "metadata": {},
   "outputs": [
    {
     "data": {
      "text/plain": [
       "[<__main__.WrapperBlock at 0x7fdf7a617350>,\n",
       " <__main__.WrapperBlock at 0x7fdf7a617310>,\n",
       " <__main__.NameGramBlock at 0x7fdf7a617490>,\n",
       " <__main__.OneHotBlock at 0x7fdf7a617610>,\n",
       " <__main__.OneHotBlock at 0x7fdf7a6175d0>,\n",
       " <__main__.OneHotBlock at 0x7fdf7a617590>,\n",
       " <__main__.OneHotBlock at 0x7fdf7a617790>,\n",
       " <__main__.CountEncodingBlock at 0x7fdf7a617750>,\n",
       " <__main__.CountEncodingBlock at 0x7fdf7a6178d0>,\n",
       " <__main__.CountEncodingBlock at 0x7fdf7a617850>,\n",
       " <__main__.SalesPortfolioBlock at 0x7fdf7a6177d0>]"
      ]
     },
     "execution_count": 36,
     "metadata": {},
     "output_type": "execute_result"
    }
   ],
   "source": [
    "process_blocks"
   ]
  },
  {
   "cell_type": "code",
   "execution_count": 37,
   "metadata": {},
   "outputs": [],
   "source": [
    "from tqdm import tqdm\n",
    "\n",
    "\n",
    "def get_function(block, is_train):\n",
    "    s = mapping = {\n",
    "        True: 'fit',\n",
    "        False: 'transform'\n",
    "    }.get(is_train)\n",
    "    return getattr(block, s)\n",
    "\n",
    "\n",
    "def to_feature(input_df, \n",
    "               blocks,\n",
    "               is_train=False):\n",
    "    out_df = pd.DataFrame()\n",
    "\n",
    "    for block in tqdm(blocks, total=len(blocks)):\n",
    "        func = get_function(block, is_train)\n",
    "\n",
    "        with timer(prefix='create ' + str(block) + ' '):\n",
    "            _df = func(input_df)\n",
    "\n",
    "        assert len(_df) == len(input_df), func.__name__\n",
    "        out_df = pd.concat([out_df, _df], axis=1)\n",
    "\n",
    "    return out_df"
   ]
  },
  {
   "cell_type": "code",
   "execution_count": 40,
   "metadata": {},
   "outputs": [
    {
     "name": "stderr",
     "output_type": "stream",
     "text": [
      "  0%|          | 0/11 [00:00<?, ?it/s]/opt/anaconda3/lib/python3.7/site-packages/texthero/preprocessing.py:72: FutureWarning: The default value of regex will change from True to False in a future version.\n",
      "  return input.str.replace(pattern, symbols)\n",
      "/opt/anaconda3/lib/python3.7/site-packages/texthero/preprocessing.py:131: FutureWarning: The default value of regex will change from True to False in a future version.\n",
      "  return input.str.replace(rf\"([{string.punctuation}])+\", symbol)\n"
     ]
    },
    {
     "name": "stdout",
     "output_type": "stream",
     "text": [
      "create <__main__.WrapperBlock object at 0x7fdf7a617350> 0.014[s]\n",
      "create <__main__.WrapperBlock object at 0x7fdf7a617310> 0.052[s]\n"
     ]
    },
    {
     "name": "stderr",
     "output_type": "stream",
     "text": [
      "100%|██████████| 11/11 [00:01<00:00,  9.77it/s]\n",
      "  0%|          | 0/11 [00:00<?, ?it/s]"
     ]
    },
    {
     "name": "stdout",
     "output_type": "stream",
     "text": [
      "create <__main__.NameGramBlock object at 0x7fdf7a617490> 0.954[s]\n",
      "create <__main__.OneHotBlock object at 0x7fdf7a617610> 0.010[s]\n",
      "create <__main__.OneHotBlock object at 0x7fdf7a6175d0> 0.008[s]\n",
      "create <__main__.OneHotBlock object at 0x7fdf7a617590> 0.012[s]\n",
      "create <__main__.OneHotBlock object at 0x7fdf7a617790> 0.008[s]\n",
      "create <__main__.CountEncodingBlock object at 0x7fdf7a617750> 0.016[s]\n",
      "create <__main__.CountEncodingBlock object at 0x7fdf7a6178d0> 0.009[s]\n",
      "create <__main__.CountEncodingBlock object at 0x7fdf7a617850> 0.004[s]\n",
      "create <__main__.SalesPortfolioBlock object at 0x7fdf7a6177d0> 0.010[s]\n",
      "create <__main__.WrapperBlock object at 0x7fdf7a617350> 0.012[s]\n",
      "create <__main__.WrapperBlock object at 0x7fdf7a617310> 0.044[s]\n"
     ]
    },
    {
     "name": "stderr",
     "output_type": "stream",
     "text": [
      "/opt/anaconda3/lib/python3.7/site-packages/texthero/preprocessing.py:72: FutureWarning: The default value of regex will change from True to False in a future version.\n",
      "  return input.str.replace(pattern, symbols)\n",
      "/opt/anaconda3/lib/python3.7/site-packages/texthero/preprocessing.py:131: FutureWarning: The default value of regex will change from True to False in a future version.\n",
      "  return input.str.replace(rf\"([{string.punctuation}])+\", symbol)\n",
      "100%|██████████| 11/11 [00:00<00:00, 12.33it/s]"
     ]
    },
    {
     "name": "stdout",
     "output_type": "stream",
     "text": [
      "create <__main__.NameGramBlock object at 0x7fdf7a617490> 0.742[s]\n",
      "create <__main__.OneHotBlock object at 0x7fdf7a617610> 0.005[s]\n",
      "create <__main__.OneHotBlock object at 0x7fdf7a6175d0> 0.006[s]\n",
      "create <__main__.OneHotBlock object at 0x7fdf7a617590> 0.006[s]\n",
      "create <__main__.OneHotBlock object at 0x7fdf7a617790> 0.005[s]\n",
      "create <__main__.CountEncodingBlock object at 0x7fdf7a617750> 0.020[s]\n",
      "create <__main__.CountEncodingBlock object at 0x7fdf7a6178d0> 0.010[s]\n",
      "create <__main__.CountEncodingBlock object at 0x7fdf7a617850> 0.004[s]\n",
      "create <__main__.SalesPortfolioBlock object at 0x7fdf7a6177d0> 0.005[s]\n"
     ]
    },
    {
     "name": "stderr",
     "output_type": "stream",
     "text": [
      "\n"
     ]
    }
   ],
   "source": [
    "train_feat_df = to_feature(train, process_blocks, is_train=True)\n",
    "test_feat_df = to_feature(test, process_blocks)"
   ]
  },
  {
   "cell_type": "code",
   "execution_count": 41,
   "metadata": {},
   "outputs": [
    {
     "data": {
      "text/html": [
       "<div>\n",
       "<style scoped>\n",
       "    .dataframe tbody tr th:only-of-type {\n",
       "        vertical-align: middle;\n",
       "    }\n",
       "\n",
       "    .dataframe tbody tr th {\n",
       "        vertical-align: top;\n",
       "    }\n",
       "\n",
       "    .dataframe thead th {\n",
       "        text-align: right;\n",
       "    }\n",
       "</style>\n",
       "<table border=\"1\" class=\"dataframe\">\n",
       "  <thead>\n",
       "    <tr style=\"text-align: right;\">\n",
       "      <th></th>\n",
       "      <th>0</th>\n",
       "      <th>1</th>\n",
       "      <th>2</th>\n",
       "      <th>3</th>\n",
       "      <th>4</th>\n",
       "    </tr>\n",
       "  </thead>\n",
       "  <tbody>\n",
       "    <tr>\n",
       "      <th>Critic_Score</th>\n",
       "      <td>84.000000</td>\n",
       "      <td>91.000000</td>\n",
       "      <td>87.000000</td>\n",
       "      <td>70.000000</td>\n",
       "      <td>71.000000</td>\n",
       "    </tr>\n",
       "    <tr>\n",
       "      <th>Critic_Count</th>\n",
       "      <td>23.000000</td>\n",
       "      <td>17.000000</td>\n",
       "      <td>28.000000</td>\n",
       "      <td>54.000000</td>\n",
       "      <td>41.000000</td>\n",
       "    </tr>\n",
       "    <tr>\n",
       "      <th>User_Score</th>\n",
       "      <td>8.000000</td>\n",
       "      <td>9.000000</td>\n",
       "      <td>8.500000</td>\n",
       "      <td>6.900000</td>\n",
       "      <td>6.900000</td>\n",
       "    </tr>\n",
       "    <tr>\n",
       "      <th>User_Count</th>\n",
       "      <td>19.000000</td>\n",
       "      <td>132.000000</td>\n",
       "      <td>39.000000</td>\n",
       "      <td>180.000000</td>\n",
       "      <td>143.000000</td>\n",
       "    </tr>\n",
       "    <tr>\n",
       "      <th>Year_of_Release</th>\n",
       "      <td>NaN</td>\n",
       "      <td>NaN</td>\n",
       "      <td>NaN</td>\n",
       "      <td>NaN</td>\n",
       "      <td>NaN</td>\n",
       "    </tr>\n",
       "    <tr>\n",
       "      <th>...</th>\n",
       "      <td>...</td>\n",
       "      <td>...</td>\n",
       "      <td>...</td>\n",
       "      <td>...</td>\n",
       "      <td>...</td>\n",
       "    </tr>\n",
       "    <tr>\n",
       "      <th>SP@Genre_EU_Sales</th>\n",
       "      <td>0.143375</td>\n",
       "      <td>0.143375</td>\n",
       "      <td>0.143375</td>\n",
       "      <td>0.143375</td>\n",
       "      <td>0.143375</td>\n",
       "    </tr>\n",
       "    <tr>\n",
       "      <th>SP@Genre_Global_Sales</th>\n",
       "      <td>0.500176</td>\n",
       "      <td>0.500176</td>\n",
       "      <td>0.500176</td>\n",
       "      <td>0.500176</td>\n",
       "      <td>0.500176</td>\n",
       "    </tr>\n",
       "    <tr>\n",
       "      <th>SP@Genre_JP_Sales</th>\n",
       "      <td>0.047810</td>\n",
       "      <td>0.047810</td>\n",
       "      <td>0.047810</td>\n",
       "      <td>0.047810</td>\n",
       "      <td>0.047810</td>\n",
       "    </tr>\n",
       "    <tr>\n",
       "      <th>SP@Genre_NA_Sales</th>\n",
       "      <td>0.254032</td>\n",
       "      <td>0.254032</td>\n",
       "      <td>0.254032</td>\n",
       "      <td>0.254032</td>\n",
       "      <td>0.254032</td>\n",
       "    </tr>\n",
       "    <tr>\n",
       "      <th>SP@Genre_Other_Sales</th>\n",
       "      <td>0.054607</td>\n",
       "      <td>0.054607</td>\n",
       "      <td>0.054607</td>\n",
       "      <td>0.054607</td>\n",
       "      <td>0.054607</td>\n",
       "    </tr>\n",
       "  </tbody>\n",
       "</table>\n",
       "<p>106 rows × 5 columns</p>\n",
       "</div>"
      ],
      "text/plain": [
       "                               0           1          2           3  \\\n",
       "Critic_Score           84.000000   91.000000  87.000000   70.000000   \n",
       "Critic_Count           23.000000   17.000000  28.000000   54.000000   \n",
       "User_Score              8.000000    9.000000   8.500000    6.900000   \n",
       "User_Count             19.000000  132.000000  39.000000  180.000000   \n",
       "Year_of_Release              NaN         NaN        NaN         NaN   \n",
       "...                          ...         ...        ...         ...   \n",
       "SP@Genre_EU_Sales       0.143375    0.143375   0.143375    0.143375   \n",
       "SP@Genre_Global_Sales   0.500176    0.500176   0.500176    0.500176   \n",
       "SP@Genre_JP_Sales       0.047810    0.047810   0.047810    0.047810   \n",
       "SP@Genre_NA_Sales       0.254032    0.254032   0.254032    0.254032   \n",
       "SP@Genre_Other_Sales    0.054607    0.054607   0.054607    0.054607   \n",
       "\n",
       "                                4  \n",
       "Critic_Score            71.000000  \n",
       "Critic_Count            41.000000  \n",
       "User_Score               6.900000  \n",
       "User_Count             143.000000  \n",
       "Year_of_Release               NaN  \n",
       "...                           ...  \n",
       "SP@Genre_EU_Sales        0.143375  \n",
       "SP@Genre_Global_Sales    0.500176  \n",
       "SP@Genre_JP_Sales        0.047810  \n",
       "SP@Genre_NA_Sales        0.254032  \n",
       "SP@Genre_Other_Sales     0.054607  \n",
       "\n",
       "[106 rows x 5 columns]"
      ]
     },
     "execution_count": 41,
     "metadata": {},
     "output_type": "execute_result"
    }
   ],
   "source": [
    "test_feat_df.head().T"
   ]
  },
  {
   "cell_type": "code",
   "execution_count": 42,
   "metadata": {},
   "outputs": [],
   "source": [
    "assert len(test_feat_df) == len(test)"
   ]
  },
  {
   "cell_type": "code",
   "execution_count": 43,
   "metadata": {},
   "outputs": [],
   "source": [
    "import lightgbm as lgbm\n",
    "import xgboost as xgb\n",
    "\n",
    "from sklearn.metrics import mean_squared_log_error\n",
    "from sklearn.metrics import mean_squared_error\n",
    "\n",
    "def fit_lgbm(X, \n",
    "             y, \n",
    "             cv, \n",
    "             params: dict=None, \n",
    "             verbose: int=50):\n",
    "    \"\"\"lightGBM を CrossValidation の枠組みで学習を行なう function\"\"\"\n",
    "    metric_func = mean_squared_error\n",
    "\n",
    "    # パラメータがないときは、空の dict で置き換える\n",
    "    if params is None:\n",
    "        params = {}\n",
    "\n",
    "    models = []\n",
    "    # training data の target と同じだけのゼロ配列を用意\n",
    "    # float にしないと悲しい事件が起こるのでそこだけ注意\n",
    "    oof_pred = np.zeros_like(y, dtype=np.float)\n",
    "\n",
    "    for i, (idx_train, idx_valid) in enumerate(cv): \n",
    "        # この部分が交差検証のところです。データセットを cv instance によって分割します\n",
    "        # training data を trian/valid に分割\n",
    "        x_train, y_train = X[idx_train], y[idx_train]\n",
    "        x_valid, y_valid = X[idx_valid], y[idx_valid]\n",
    "\n",
    "        clf = lgbm.LGBMRegressor(**params)\n",
    "\n",
    "        with timer(prefix='fit fold={} '.format(i + 1)):\n",
    "            clf.fit(x_train, y_train, \n",
    "                    eval_set=[(x_valid, y_valid)],  \n",
    "                    early_stopping_rounds=verbose,\n",
    "                    verbose=verbose)\n",
    "\n",
    "        pred_i = clf.predict(x_valid)\n",
    "\n",
    "        oof_pred[idx_valid] = pred_i\n",
    "        models.append(clf)\n",
    "\n",
    "        print(f'Fold {i} RMSLE: {metric_func(y_valid, pred_i) ** .5:.4f}')\n",
    "\n",
    "    score = metric_func(y, oof_pred) ** .5\n",
    "    print('FINISHED | Whole RMSLE: {:.4f}'.format(score))\n",
    "    return oof_pred, models"
   ]
  },
  {
   "cell_type": "code",
   "execution_count": 44,
   "metadata": {},
   "outputs": [],
   "source": [
    "params = {\n",
    "    'objective': 'rmse', # 目的関数. これの意味で最小となるようなパラメータを探します. \n",
    "    'learning_rate': .1, # 学習率. 小さいほどなめらかな決定境界が作られて性能向上に繋がる場合が多いです、がそれだけ木を作るため学習に時間がかかります\n",
    "    'max_depth': 6, # 木の深さ. 深い木を許容するほどより複雑な交互作用を考慮するようになります\n",
    "    'n_estimators': 10000, # 木の最大数. early_stopping という枠組みで木の数は制御されるようにしていますのでとても大きい値を指定しておきます.\n",
    "    'colsample_bytree': .5, # 木を作る際に考慮する特徴量の割合. 1以下を指定すると特徴をランダムに欠落させます。小さくすることで, まんべんなく特徴を使うという効果があります.\n",
    "    'importance_type': 'gain' # 特徴重要度計算のロジック(後述)\n",
    "}\n",
    "\n",
    "y = train['Global_Sales'].values\n",
    "y = np.log1p(y) # log + plus1 変換する"
   ]
  },
  {
   "cell_type": "code",
   "execution_count": 45,
   "metadata": {},
   "outputs": [],
   "source": [
    "from sklearn.model_selection import KFold, GroupKFold\n",
    "\n",
    "fold = KFold(n_splits=5, shuffle=True, random_state=0)\n",
    "cv = list(fold.split(train_feat_df, y))"
   ]
  },
  {
   "cell_type": "code",
   "execution_count": 46,
   "metadata": {},
   "outputs": [
    {
     "name": "stdout",
     "output_type": "stream",
     "text": [
      "[LightGBM] [Warning] Accuracy may be bad since you didn't explicitly set num_leaves OR 2^max_depth > num_leaves. (num_leaves=31).\n",
      "Training until validation scores don't improve for 50 rounds\n",
      "[50]\tvalid_0's rmse: 0.917657\n",
      "[100]\tvalid_0's rmse: 0.8868\n",
      "[150]\tvalid_0's rmse: 0.874355\n",
      "[200]\tvalid_0's rmse: 0.869963\n",
      "[250]\tvalid_0's rmse: 0.867362\n",
      "[300]\tvalid_0's rmse: 0.866317\n",
      "Early stopping, best iteration is:\n",
      "[261]\tvalid_0's rmse: 0.865527\n",
      "fit fold=1 0.430[s]\n",
      "Fold 0 RMSLE: 0.8655\n",
      "[LightGBM] [Warning] Accuracy may be bad since you didn't explicitly set num_leaves OR 2^max_depth > num_leaves. (num_leaves=31).\n",
      "Training until validation scores don't improve for 50 rounds\n",
      "[50]\tvalid_0's rmse: 0.942574\n",
      "[100]\tvalid_0's rmse: 0.906261\n",
      "[150]\tvalid_0's rmse: 0.892944\n",
      "[200]\tvalid_0's rmse: 0.885862\n",
      "[250]\tvalid_0's rmse: 0.883002\n",
      "[300]\tvalid_0's rmse: 0.882745\n",
      "[350]\tvalid_0's rmse: 0.881255\n",
      "[400]\tvalid_0's rmse: 0.881577\n",
      "Early stopping, best iteration is:\n",
      "[374]\tvalid_0's rmse: 0.880714\n",
      "fit fold=2 0.755[s]\n",
      "Fold 1 RMSLE: 0.8807\n",
      "[LightGBM] [Warning] Accuracy may be bad since you didn't explicitly set num_leaves OR 2^max_depth > num_leaves. (num_leaves=31).\n",
      "Training until validation scores don't improve for 50 rounds\n",
      "[50]\tvalid_0's rmse: 0.939806\n",
      "[100]\tvalid_0's rmse: 0.910355\n",
      "[150]\tvalid_0's rmse: 0.897695\n",
      "[200]\tvalid_0's rmse: 0.889196\n",
      "[250]\tvalid_0's rmse: 0.887178\n",
      "[300]\tvalid_0's rmse: 0.885373\n",
      "[350]\tvalid_0's rmse: 0.88454\n",
      "[400]\tvalid_0's rmse: 0.884656\n",
      "Early stopping, best iteration is:\n",
      "[374]\tvalid_0's rmse: 0.883763\n",
      "fit fold=3 0.503[s]\n",
      "Fold 2 RMSLE: 0.8838\n",
      "[LightGBM] [Warning] Accuracy may be bad since you didn't explicitly set num_leaves OR 2^max_depth > num_leaves. (num_leaves=31).\n",
      "Training until validation scores don't improve for 50 rounds\n",
      "[50]\tvalid_0's rmse: 0.940636\n",
      "[100]\tvalid_0's rmse: 0.914675\n",
      "[150]\tvalid_0's rmse: 0.904675\n",
      "[200]\tvalid_0's rmse: 0.897809\n",
      "[250]\tvalid_0's rmse: 0.892334\n",
      "[300]\tvalid_0's rmse: 0.89157\n",
      "[350]\tvalid_0's rmse: 0.890821\n",
      "[400]\tvalid_0's rmse: 0.889491\n",
      "[450]\tvalid_0's rmse: 0.889459\n",
      "Early stopping, best iteration is:\n",
      "[403]\tvalid_0's rmse: 0.8892\n",
      "fit fold=4 0.547[s]\n",
      "Fold 3 RMSLE: 0.8892\n",
      "[LightGBM] [Warning] Accuracy may be bad since you didn't explicitly set num_leaves OR 2^max_depth > num_leaves. (num_leaves=31).\n",
      "Training until validation scores don't improve for 50 rounds\n",
      "[50]\tvalid_0's rmse: 0.925586\n",
      "[100]\tvalid_0's rmse: 0.897612\n",
      "[150]\tvalid_0's rmse: 0.886213\n",
      "[200]\tvalid_0's rmse: 0.882194\n",
      "[250]\tvalid_0's rmse: 0.879596\n",
      "[300]\tvalid_0's rmse: 0.879611\n",
      "Early stopping, best iteration is:\n",
      "[270]\tvalid_0's rmse: 0.878459\n",
      "fit fold=5 0.380[s]\n",
      "Fold 4 RMSLE: 0.8785\n",
      "FINISHED | Whole RMSLE: 0.8796\n"
     ]
    }
   ],
   "source": [
    "oof, models = fit_lgbm(train_feat_df.values, y, cv, params=params)"
   ]
  },
  {
   "cell_type": "code",
   "execution_count": 47,
   "metadata": {},
   "outputs": [],
   "source": [
    "def split_by_groups(groups):\n",
    "    kfold = KFold(n_splits=10, random_state=0, shuffle=True)\n",
    "    groups = pd.Series(groups)\n",
    "    \n",
    "    unique_groups = groups.unique()\n",
    "    splits = []\n",
    "    \n",
    "    def _filter_ids(idx):\n",
    "        values = unique_groups[idx]\n",
    "        idx = groups.isin(values)\n",
    "        return groups[idx].index.values\n",
    "    \n",
    "    for idx_tr, idx_val, in kfold.split(unique_groups):\n",
    "        splits.append([\n",
    "            _filter_ids(idx_tr), _filter_ids(idx_val)\n",
    "        ])\n",
    "        \n",
    "    return splits"
   ]
  },
  {
   "cell_type": "code",
   "execution_count": 49,
   "metadata": {},
   "outputs": [],
   "source": [
    "def visualize_importance(models, feat_train_df):\n",
    "    \"\"\"lightGBM の model 配列の feature importance を plot する\n",
    "    CVごとのブレを boxen plot として表現します.\n",
    "\n",
    "    args:\n",
    "        models:\n",
    "            List of lightGBM models\n",
    "        feat_train_df:\n",
    "            学習時に使った DataFrame\n",
    "    \"\"\"\n",
    "    feature_importance_df = pd.DataFrame()\n",
    "    for i, model in enumerate(models):\n",
    "        _df = pd.DataFrame()\n",
    "        _df['feature_importance'] = model.feature_importances_\n",
    "        _df['column'] = feat_train_df.columns\n",
    "        _df['fold'] = i + 1\n",
    "        feature_importance_df = pd.concat([feature_importance_df, _df], axis=0, ignore_index=True)\n",
    "\n",
    "    order = feature_importance_df.groupby('column')\\\n",
    "        .sum()[['feature_importance']]\\\n",
    "        .sort_values('feature_importance', ascending=False).index[:50]\n",
    "\n",
    "    fig, ax = plt.subplots(figsize=(max(6, len(order) * .4), 7))\n",
    "    sns.boxenplot(data=feature_importance_df, x='column', y='feature_importance', order=order, ax=ax, palette='viridis')\n",
    "    ax.tick_params(axis='x', rotation=90)\n",
    "    ax.grid()\n",
    "    fig.tight_layout()\n",
    "    return fig, ax"
   ]
  },
  {
   "cell_type": "code",
   "execution_count": 50,
   "metadata": {},
   "outputs": [
    {
     "data": {
      "image/png": "[encoded data removed]",
      "text/plain": [
       "<Figure size 1440x504 with 1 Axes>"
      ]
     },
     "metadata": {},
     "output_type": "display_data"
    }
   ],
   "source": [
    "fig, ax = visualize_importance(models, train_feat_df)"
   ]
  },
  {
   "cell_type": "code",
   "execution_count": 51,
   "metadata": {},
   "outputs": [],
   "source": [
    "pred = np.array([model.predict(test_feat_df.values) for model in models])\n",
    "pred = np.mean(pred, axis=0)\n",
    "pred = np.expm1(pred)\n",
    "pred = np.where(pred < 0, 0, pred)"
   ]
  },
  {
   "cell_type": "code",
   "execution_count": 52,
   "metadata": {},
   "outputs": [
    {
     "data": {
      "image/png": "[encoded data removed]",
      "text/plain": [
       "<Figure size 576x576 with 1 Axes>"
      ]
     },
     "metadata": {},
     "output_type": "display_data"
    }
   ],
   "source": [
    "fig, ax = plt.subplots(figsize=(8, 8))\n",
    "sns.distplot(np.log1p(pred), label='Test Predict')\n",
    "sns.distplot(oof, label='Out Of Fold')\n",
    "ax.legend()\n",
    "ax.grid()"
   ]
  },
  {
   "cell_type": "code",
   "execution_count": 53,
   "metadata": {},
   "outputs": [],
   "source": [
    "sub_df = pd.DataFrame({ 'Global_Sales': pred })\n",
    "sub_df.to_csv(os.path.join(OUTPUT, 'submit_copy.csv'), index=False)"
   ]
  }
 ],
 "metadata": {
  "kernelspec": {
   "display_name": "Python 3",
   "language": "python",
   "name": "python3"
  },
  "language_info": {
   "codemirror_mode": {
    "name": "ipython",
    "version": 3
   },
   "file_extension": ".py",
   "mimetype": "text/x-python",
   "name": "python",
   "nbconvert_exporter": "python",
   "pygments_lexer": "ipython3",
   "version": "3.7.6"
  }
 },
 "nbformat": 4,
 "nbformat_minor": 4
}
